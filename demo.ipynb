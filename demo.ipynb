{
 "cells": [
  {
   "cell_type": "code",
   "execution_count": 1,
   "id": "2a4f60ef",
   "metadata": {},
   "outputs": [],
   "source": [
    "from es import DocumentStore, Document"
   ]
  },
  {
   "cell_type": "code",
   "execution_count": 2,
   "id": "370113f3",
   "metadata": {},
   "outputs": [],
   "source": [
    "host = 'http://172.31.18.19:9200'"
   ]
  },
  {
   "cell_type": "code",
   "execution_count": 3,
   "id": "ef644e46",
   "metadata": {},
   "outputs": [],
   "source": [
    "index = 'tmp_es_template' # paul-"
   ]
  },
  {
   "cell_type": "code",
   "execution_count": 4,
   "id": "3a001a88",
   "metadata": {},
   "outputs": [],
   "source": [
    "storeclient = DocumentStore(host)"
   ]
  },
  {
   "cell_type": "code",
   "execution_count": 5,
   "id": "df532fe5",
   "metadata": {},
   "outputs": [],
   "source": [
    "storeclient.create_store(index, lang='fr', reset_index=True)"
   ]
  },
  {
   "cell_type": "code",
   "execution_count": 6,
   "id": "a909f891",
   "metadata": {},
   "outputs": [],
   "source": [
    "with open('sample.txt') as f:\n",
    "    data = [Document(text=s.strip(), id=i) for i, s in enumerate(f.readlines())]"
   ]
  },
  {
   "cell_type": "code",
   "execution_count": 7,
   "id": "ba5efc19",
   "metadata": {},
   "outputs": [
    {
     "data": {
      "text/plain": [
       "[Document(text=\"En tant que général en chef et chef d'État, Napoléon tente de briser les coalitions montées et financées par le royaume de Grande-Bretagne et qui rassemblent, à partir de 1792, les monarchies européennes contre la France et son régime né de la Révolution.\", id=0),\n",
       " Document(text=\"Il conduit les armées françaises d'Italie au Nil et d'Autriche à la Prusse et à la Pologne : les nombreuses et brillantes victoires de Bonaparte (Arcole, Rivoli, Pyramides, Marengo, Austerlitz, Iéna, Friedland), dans des campagnes militaires rapides, disloquent les quatre premières coalitions.\", id=1),\n",
       " Document(text=\"Les paix successives, qui mettent un terme à chacune de ces coalitions, renforcent la France et donnent à Napoléon un degré de puissance jusqu'alors rarement égalé en Europe, lors de la paix de Tilsit (1807).\", id=2)]"
      ]
     },
     "execution_count": 7,
     "metadata": {},
     "output_type": "execute_result"
    }
   ],
   "source": [
    "data"
   ]
  },
  {
   "cell_type": "code",
   "execution_count": 8,
   "id": "b2d3f47f",
   "metadata": {},
   "outputs": [],
   "source": [
    "storeclient.add_documents(index=index, documents=data)"
   ]
  },
  {
   "cell_type": "code",
   "execution_count": 9,
   "id": "94659a20",
   "metadata": {},
   "outputs": [],
   "source": [
    "query = 'Napoleon'\n",
    "#query = 'mediteranen'\n",
    "#query = 'civilizatio'"
   ]
  },
  {
   "cell_type": "code",
   "execution_count": 10,
   "id": "8fe72cc6",
   "metadata": {},
   "outputs": [
    {
     "name": "stdout",
     "output_type": "stream",
     "text": [
      "search results:\n",
      "[{'text': \"Les paix successives, qui mettent un terme à chacune de ces coalitions, renforcent la France et donnent à Napoléon un degré de puissance jusqu'alors rarement égalé en Europe, lors de la paix de Tilsit (1807).\", 'score': 0.503311, 'highlight': [\"Les paix successives, qui mettent un terme à chacune de ces coalitions, renforcent la France et donnent à <b>Napoléon</b> un degré de puissance jusqu'alors rarement égalé en Europe, lors de la paix de Tilsit\"]}, {'text': \"En tant que général en chef et chef d'État, Napoléon tente de briser les coalitions montées et financées par le royaume de Grande-Bretagne et qui rassemblent, à partir de 1792, les monarchies européennes contre la France et son régime né de la Révolution.\", 'score': 0.46719295, 'highlight': [\"En tant que général en chef et chef d'État, <b>Napoléon</b> tente de briser les coalitions montées et financées par le royaume de Grande-Bretagne et qui rassemblent, à partir de 1792, les monarchies européennes\"]}]\n"
     ]
    },
    {
     "data": {
      "text/plain": [
       "([{'text': 'napoleon',\n",
       "   'offset': 0,\n",
       "   'length': 8,\n",
       "   'options': [{'text': 'napoléon', 'score': 0.875, 'freq': 2}]}],\n",
       " [{'text': 'napoleon', 'offset': 0, 'length': 8, 'options': []}])"
      ]
     },
     "execution_count": 10,
     "metadata": {},
     "output_type": "execute_result"
    }
   ],
   "source": [
    "print('search results:')\n",
    "print(storeclient.search_by_word_matching(index, query))\n",
    "storeclient.suggest(index=index, query_string=query)"
   ]
  },
  {
   "cell_type": "code",
   "execution_count": null,
   "id": "27b8e680",
   "metadata": {},
   "outputs": [],
   "source": [
    "1 paragraphe -> p1, p2, ..., pn -> elasticsearch\n",
    "p3 - short answer - 1\n",
    "p3 -> elasticsearch -> [p7, p8, ..., p11, p13] -> 2 negatives: p11 + p13\n",
    "choisir encore un negative (pas une short answer) depuis une autre paragraphe aleatoirement"
   ]
  }
 ],
 "metadata": {
  "interpreter": {
   "hash": "1eea1472a04bc1f0848217e2374d9afc29652d8693cda1e1472c3bfe87d75485"
  },
  "kernelspec": {
   "display_name": "quang-es",
   "language": "python",
   "name": "quang-es"
  },
  "language_info": {
   "codemirror_mode": {
    "name": "ipython",
    "version": 3
   },
   "file_extension": ".py",
   "mimetype": "text/x-python",
   "name": "python",
   "nbconvert_exporter": "python",
   "pygments_lexer": "ipython3",
   "version": "3.10.4"
  }
 },
 "nbformat": 4,
 "nbformat_minor": 5
}
