{
 "cells": [
  {
   "cell_type": "code",
   "execution_count": 1,
   "id": "2a4f60ef",
   "metadata": {},
   "outputs": [],
   "source": [
    "from es import DocumentStore, Document"
   ]
  },
  {
   "cell_type": "code",
   "execution_count": 2,
   "id": "370113f3",
   "metadata": {},
   "outputs": [],
   "source": [
    "host = '172.31.18.19'"
   ]
  },
  {
   "cell_type": "code",
   "execution_count": 3,
   "id": "ef644e46",
   "metadata": {},
   "outputs": [],
   "source": [
    "index = 'tmp_es_template'"
   ]
  },
  {
   "cell_type": "code",
   "execution_count": 4,
   "id": "3a001a88",
   "metadata": {},
   "outputs": [],
   "source": [
    "storeclient = DocumentStore(host)"
   ]
  },
  {
   "cell_type": "code",
   "execution_count": 12,
   "id": "df532fe5",
   "metadata": {},
   "outputs": [],
   "source": [
    "storeclient.create_store(index, lang='fr', reset_index=True)"
   ]
  },
  {
   "cell_type": "code",
   "execution_count": 13,
   "id": "a909f891",
   "metadata": {},
   "outputs": [],
   "source": [
    "with open('sample.txt') as f:\n",
    "    data = [Document(text=s.strip(), id=i) for i, s in enumerate(f.readlines())]"
   ]
  },
  {
   "cell_type": "code",
   "execution_count": 14,
   "id": "ba5efc19",
   "metadata": {},
   "outputs": [
    {
     "data": {
      "text/plain": [
       "[Document(text='machine learning is fun', id=0),\n",
       " Document(text='what is deep learning', id=1),\n",
       " Document(text=\"tonight I'll eat lobster\", id=2)]"
      ]
     },
     "execution_count": 14,
     "metadata": {},
     "output_type": "execute_result"
    }
   ],
   "source": [
    "data"
   ]
  },
  {
   "cell_type": "code",
   "execution_count": 15,
   "id": "b2d3f47f",
   "metadata": {},
   "outputs": [],
   "source": [
    "storeclient.add_documents(index=index, documents=data)"
   ]
  },
  {
   "cell_type": "code",
   "execution_count": 16,
   "id": "94659a20",
   "metadata": {},
   "outputs": [],
   "source": [
    "query = 'machine learn'"
   ]
  },
  {
   "cell_type": "code",
   "execution_count": 17,
   "id": "8fe72cc6",
   "metadata": {},
   "outputs": [
    {
     "data": {
      "text/plain": [
       "[]"
      ]
     },
     "execution_count": 17,
     "metadata": {},
     "output_type": "execute_result"
    }
   ],
   "source": [
    "storeclient.search_by_word_matching(index, query)"
   ]
  },
  {
   "cell_type": "code",
   "execution_count": null,
   "id": "7062475d",
   "metadata": {},
   "outputs": [],
   "source": []
  }
 ],
 "metadata": {
  "kernelspec": {
   "display_name": "document-indexer",
   "language": "python",
   "name": "document-indexer"
  },
  "language_info": {
   "codemirror_mode": {
    "name": "ipython",
    "version": 3
   },
   "file_extension": ".py",
   "mimetype": "text/x-python",
   "name": "python",
   "nbconvert_exporter": "python",
   "pygments_lexer": "ipython3",
   "version": "3.8.5"
  }
 },
 "nbformat": 4,
 "nbformat_minor": 5
}
