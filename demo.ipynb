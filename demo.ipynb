{
 "cells": [
  {
   "cell_type": "code",
   "execution_count": 1,
   "id": "2a4f60ef",
   "metadata": {},
   "outputs": [],
   "source": [
    "from es import DocumentStore, Document"
   ]
  },
  {
   "cell_type": "code",
   "execution_count": 2,
   "id": "370113f3",
   "metadata": {},
   "outputs": [],
   "source": [
    "host = 'http://172.31.18.19:9200'"
   ]
  },
  {
   "cell_type": "code",
   "execution_count": 3,
   "id": "ef644e46",
   "metadata": {},
   "outputs": [],
   "source": [
    "index = 'tmp_es_template'"
   ]
  },
  {
   "cell_type": "code",
   "execution_count": 4,
   "id": "3a001a88",
   "metadata": {},
   "outputs": [],
   "source": [
    "storeclient = DocumentStore(host)"
   ]
  },
  {
   "cell_type": "code",
   "execution_count": 5,
   "id": "df532fe5",
   "metadata": {},
   "outputs": [],
   "source": [
    "storeclient.create_store(index, lang='en', reset_index=True)"
   ]
  },
  {
   "cell_type": "code",
   "execution_count": 6,
   "id": "a909f891",
   "metadata": {},
   "outputs": [],
   "source": [
    "with open('sample.txt') as f:\n",
    "    data = [Document(text=s.strip(), id=i) for i, s in enumerate(f.readlines())]"
   ]
  },
  {
   "cell_type": "code",
   "execution_count": 7,
   "id": "ba5efc19",
   "metadata": {},
   "outputs": [
    {
     "data": {
      "text/plain": [
       "[Document(text='machine learning', id=0),\n",
       " Document(text='deep learning', id=1),\n",
       " Document(text='organizational behavior', id=2),\n",
       " Document(text='big disappointment', id=3)]"
      ]
     },
     "execution_count": 7,
     "metadata": {},
     "output_type": "execute_result"
    }
   ],
   "source": [
    "data"
   ]
  },
  {
   "cell_type": "code",
   "execution_count": 8,
   "id": "b2d3f47f",
   "metadata": {},
   "outputs": [],
   "source": [
    "storeclient.add_documents(index=index, documents=data)"
   ]
  },
  {
   "cell_type": "code",
   "execution_count": 9,
   "id": "94659a20",
   "metadata": {},
   "outputs": [],
   "source": [
    "query = 'dissapoint'"
   ]
  },
  {
   "cell_type": "code",
   "execution_count": 10,
   "id": "8fe72cc6",
   "metadata": {},
   "outputs": [
    {
     "data": {
      "text/plain": [
       "[]"
      ]
     },
     "execution_count": 10,
     "metadata": {},
     "output_type": "execute_result"
    }
   ],
   "source": [
    "storeclient.search_by_word_matching(index, query)"
   ]
  },
  {
   "cell_type": "code",
   "execution_count": 11,
   "id": "dd3c9c7c",
   "metadata": {},
   "outputs": [
    {
     "data": {
      "text/plain": [
       "([{'text': 'dissapoint', 'offset': 0, 'length': 10, 'options': []}],\n",
       " [{'text': 'dissapoint',\n",
       "   'offset': 0,\n",
       "   'length': 10,\n",
       "   'options': [{'text': 'disappoint', 'score': 0.8, 'freq': 1}]}])"
      ]
     },
     "execution_count": 11,
     "metadata": {},
     "output_type": "execute_result"
    }
   ],
   "source": [
    "storeclient.suggest(index=index, query_string=query)"
   ]
  },
  {
   "cell_type": "code",
   "execution_count": null,
   "id": "9711f546",
   "metadata": {},
   "outputs": [],
   "source": []
  }
 ],
 "metadata": {
  "interpreter": {
   "hash": "1eea1472a04bc1f0848217e2374d9afc29652d8693cda1e1472c3bfe87d75485"
  },
  "kernelspec": {
   "display_name": "quang-es",
   "language": "python",
   "name": "python3"
  },
  "language_info": {
   "codemirror_mode": {
    "name": "ipython",
    "version": 3
   },
   "file_extension": ".py",
   "mimetype": "text/x-python",
   "name": "python",
   "nbconvert_exporter": "python",
   "pygments_lexer": "ipython3",
   "version": "3.8.5"
  }
 },
 "nbformat": 4,
 "nbformat_minor": 5
}
