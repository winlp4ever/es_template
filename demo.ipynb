{
 "cells": [
  {
   "cell_type": "code",
   "execution_count": 1,
   "id": "2a4f60ef",
   "metadata": {},
   "outputs": [],
   "source": [
    "from es import DocumentStore, Document"
   ]
  },
  {
   "cell_type": "code",
   "execution_count": 2,
   "id": "370113f3",
   "metadata": {},
   "outputs": [],
   "source": [
    "host = 'http://172.31.18.19:9200'"
   ]
  },
  {
   "cell_type": "code",
   "execution_count": 3,
   "id": "ef644e46",
   "metadata": {},
   "outputs": [],
   "source": [
    "index = 'tmp_es_template'"
   ]
  },
  {
   "cell_type": "code",
   "execution_count": 4,
   "id": "3a001a88",
   "metadata": {},
   "outputs": [],
   "source": [
    "storeclient = DocumentStore(host)"
   ]
  },
  {
   "cell_type": "code",
   "execution_count": 5,
   "id": "df532fe5",
   "metadata": {},
   "outputs": [],
   "source": [
    "storeclient.create_store(index, lang='en', reset_index=True)"
   ]
  },
  {
   "cell_type": "code",
   "execution_count": 6,
   "id": "a909f891",
   "metadata": {},
   "outputs": [],
   "source": [
    "with open('sample.txt') as f:\n",
    "    data = [Document(text=s.strip(), id=i) for i, s in enumerate(f.readlines())]"
   ]
  },
  {
   "cell_type": "code",
   "execution_count": 7,
   "id": "ba5efc19",
   "metadata": {},
   "outputs": [
    {
     "data": {
      "text/plain": [
       "[Document(text='machine learning', id=0),\n",
       " Document(text='deep learning', id=1),\n",
       " Document(text='organizational behavior', id=2),\n",
       " Document(text='big disappointment', id=3)]"
      ]
     },
     "execution_count": 7,
     "metadata": {},
     "output_type": "execute_result"
    }
   ],
   "source": [
    "data"
   ]
  },
  {
   "cell_type": "code",
   "execution_count": 8,
   "id": "b2d3f47f",
   "metadata": {},
   "outputs": [],
   "source": [
    "storeclient.add_documents(index=index, documents=data)"
   ]
  },
  {
   "cell_type": "code",
   "execution_count": 9,
   "id": "94659a20",
   "metadata": {},
   "outputs": [],
   "source": [
    "query = 'machine learn'"
   ]
  },
  {
   "cell_type": "code",
   "execution_count": 10,
   "id": "8fe72cc6",
   "metadata": {},
   "outputs": [
    {
     "data": {
      "text/plain": [
       "[{'text': 'machine learning',\n",
       "  'score': 1.89712,\n",
       "  'highlight': ['<b>machine</b> <b>learning</b>']},\n",
       " {'text': 'deep learning',\n",
       "  'score': 0.6931471,\n",
       "  'highlight': ['deep <b>learning</b>']}]"
      ]
     },
     "execution_count": 10,
     "metadata": {},
     "output_type": "execute_result"
    }
   ],
   "source": [
    "storeclient.search_by_word_matching(index, query)"
   ]
  },
  {
   "cell_type": "code",
   "execution_count": 12,
   "id": "7062475d",
   "metadata": {},
   "outputs": [
    {
     "data": {
      "text/plain": [
       "{'took': 2,\n",
       " 'timed_out': False,\n",
       " '_shards': {'total': 1, 'successful': 1, 'skipped': 0, 'failed': 0},\n",
       " 'hits': {'total': {'value': 0, 'relation': 'eq'},\n",
       "  'max_score': None,\n",
       "  'hits': []},\n",
       " 'suggest': {'query_suggestion': [{'text': 'organz',\n",
       "    'offset': 0,\n",
       "    'length': 11,\n",
       "    'options': [{'text': 'organiz', 'score': 0.8333333, 'freq': 1}]}]}}"
      ]
     },
     "execution_count": 12,
     "metadata": {},
     "output_type": "execute_result"
    }
   ],
   "source": [
    "query_string = \"organzation\"\n",
    "\n",
    "query = {\n",
    "    \"query\": { \n",
    "        \"multi_match\": {\n",
    "            \"query\": \"*%s*\" % query_string,\n",
    "            \"fields\": [\n",
    "                \"text\"\n",
    "            ]\n",
    "        }\n",
    "    },\n",
    "    \"suggest\" : {\n",
    "        \"query_suggestion\" : {\n",
    "            \"text\" : query_string,\n",
    "            \"term\" : {\n",
    "                \"field\" : \"text\"\n",
    "            }\n",
    "        }\n",
    "    },\n",
    "    \"_source\": [\"text\"],\n",
    "    \"highlight\": {\n",
    "        \"pre_tags\": [\"<b>\"], \n",
    "        \"post_tags\": [\"</b>\"], \n",
    "        \"fields\": {    \n",
    "            \"text\": { \"fragment_size\": 200 }\n",
    "        }\n",
    "    }\n",
    "}\n",
    "res = storeclient._es.search(index=index, body=query)\n",
    "res"
   ]
  },
  {
   "cell_type": "code",
   "execution_count": 38,
   "id": "fe525881",
   "metadata": {},
   "outputs": [
    {
     "data": {
      "text/plain": [
       "{'took': 0,\n",
       " 'timed_out': False,\n",
       " '_shards': {'total': 1, 'successful': 1, 'skipped': 0, 'failed': 0},\n",
       " 'hits': {'total': {'value': 1, 'relation': 'eq'},\n",
       "  'max_score': 0.9331132,\n",
       "  'hits': [{'_index': 'tmp_es_template',\n",
       "    '_type': '_doc',\n",
       "    '_id': '1',\n",
       "    '_score': 0.9331132,\n",
       "    '_source': {'text': \"c'est quoi machine learning\"},\n",
       "    'highlight': {'text': [\"c'est <b>quoi</b> machine learning\"]}}]},\n",
       " 'suggest': {'query_suggestion': [{'text': 'quoi',\n",
       "    'offset': 0,\n",
       "    'length': 5,\n",
       "    'options': []}]}}"
      ]
     },
     "execution_count": 38,
     "metadata": {},
     "output_type": "execute_result"
    }
   ],
   "source": [
    "res"
   ]
  },
  {
   "cell_type": "code",
   "execution_count": null,
   "id": "1f92d187",
   "metadata": {},
   "outputs": [],
   "source": []
  }
 ],
 "metadata": {
  "interpreter": {
   "hash": "a3aab8c366ddf25bff7ee92745ef8af41ae31f0d8604aaab67d6185260175374"
  },
  "kernelspec": {
   "display_name": "quang-es",
   "language": "python",
   "name": "quang-es"
  },
  "language_info": {
   "codemirror_mode": {
    "name": "ipython",
    "version": 3
   },
   "file_extension": ".py",
   "mimetype": "text/x-python",
   "name": "python",
   "nbconvert_exporter": "python",
   "pygments_lexer": "ipython3",
   "version": "3.10.4"
  }
 },
 "nbformat": 4,
 "nbformat_minor": 5
}
