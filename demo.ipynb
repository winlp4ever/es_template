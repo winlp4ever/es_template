{
 "cells": [
  {
   "cell_type": "code",
   "execution_count": 1,
   "id": "2a4f60ef",
   "metadata": {},
   "outputs": [
    {
     "name": "stderr",
     "output_type": "stream",
     "text": [
      "2022-06-14 14:15:57.447796: I tensorflow/stream_executor/platform/default/dso_loader.cc:53] Successfully opened dynamic library libcudart.so.11.0\n"
     ]
    }
   ],
   "source": [
    "from src.search.paragraphs import DocumentStore, Document\n",
    "from src.search.passage_ranking import ResponseScorer"
   ]
  },
  {
   "cell_type": "code",
   "execution_count": 2,
   "id": "370113f3",
   "metadata": {},
   "outputs": [],
   "source": [
    "host = '<es-host>'"
   ]
  },
  {
   "cell_type": "code",
   "execution_count": 3,
   "id": "ef644e46",
   "metadata": {},
   "outputs": [],
   "source": [
    "index = 'tmp_es_template' # you have to change the index name to something like '<your-firstname>-blahblah'"
   ]
  },
  {
   "cell_type": "code",
   "execution_count": 4,
   "id": "3a001a88",
   "metadata": {},
   "outputs": [],
   "source": [
    "storeclient = DocumentStore(host)"
   ]
  },
  {
   "cell_type": "code",
   "execution_count": 5,
   "id": "df532fe5",
   "metadata": {},
   "outputs": [
    {
     "name": "stderr",
     "output_type": "stream",
     "text": [
      "INFO:elasticsearch:DELETE http://172.31.18.19:9200/tmp_es_template [status:200 request:0.041s]\n",
      "INFO:elasticsearch:PUT http://172.31.18.19:9200/tmp_es_template [status:200 request:0.086s]\n"
     ]
    }
   ],
   "source": [
    "storeclient.create_store(index, lang='en', reset_index=True)"
   ]
  },
  {
   "cell_type": "code",
   "execution_count": 6,
   "id": "a909f891",
   "metadata": {},
   "outputs": [],
   "source": [
    "with open('sample.txt') as f:\n",
    "    data = [Document(text=s.strip(), id=i) for i, s in enumerate(f.readlines())]"
   ]
  },
  {
   "cell_type": "code",
   "execution_count": 7,
   "id": "ba5efc19",
   "metadata": {},
   "outputs": [
    {
     "data": {
      "text/plain": [
       "[Document(text='machine learning', id=0), Document(text='deep learning', id=1)]"
      ]
     },
     "execution_count": 7,
     "metadata": {},
     "output_type": "execute_result"
    }
   ],
   "source": [
    "data"
   ]
  },
  {
   "cell_type": "code",
   "execution_count": 8,
   "id": "b2d3f47f",
   "metadata": {},
   "outputs": [
    {
     "name": "stderr",
     "output_type": "stream",
     "text": [
      "INFO:elasticsearch:POST http://172.31.18.19:9200/_bulk?refresh=true [status:200 request:0.011s]\n"
     ]
    }
   ],
   "source": [
    "storeclient.add_documents(index=index, documents=data)"
   ]
  },
  {
   "cell_type": "code",
   "execution_count": 9,
   "id": "94659a20",
   "metadata": {},
   "outputs": [],
   "source": [
    "query = 'learn'\n",
    "#query = 'mediteranen'\n",
    "#query = 'civilizatio'"
   ]
  },
  {
   "cell_type": "code",
   "execution_count": 10,
   "id": "8fe72cc6",
   "metadata": {},
   "outputs": [
    {
     "name": "stderr",
     "output_type": "stream",
     "text": [
      "INFO:elasticsearch:POST http://172.31.18.19:9200/tmp_es_template/_search [status:200 request:0.003s]\n",
      "INFO:elasticsearch:POST http://172.31.18.19:9200/tmp_es_template/_search [status:200 request:0.003s]\n"
     ]
    },
    {
     "name": "stdout",
     "output_type": "stream",
     "text": [
      "search results:\n",
      "[SearchResult(paragraph=Document(text='machine learning', id='0'), highlight=['machine <b>learning</b>'], score=0.18232156), SearchResult(paragraph=Document(text='deep learning', id='1'), highlight=['deep <b>learning</b>'], score=0.18232156)]\n"
     ]
    },
    {
     "data": {
      "text/plain": [
       "([{'text': 'learn', 'offset': 0, 'length': 5, 'options': []}],\n",
       " [{'text': 'learn', 'offset': 0, 'length': 5, 'options': []}])"
      ]
     },
     "execution_count": 10,
     "metadata": {},
     "output_type": "execute_result"
    }
   ],
   "source": [
    "print('search results:')\n",
    "print(storeclient.search(index, query))\n",
    "storeclient.suggest(index=index, query_string=query)"
   ]
  },
  {
   "cell_type": "code",
   "execution_count": 11,
   "id": "2c2b293e",
   "metadata": {},
   "outputs": [
    {
     "name": "stderr",
     "output_type": "stream",
     "text": [
      "Some weights of the model checkpoint at models/asnq_roberta were not used when initializing RobertaForSequenceClassification: ['roberta.pooler.dense.bias', 'roberta.pooler.dense.weight']\n",
      "- This IS expected if you are initializing RobertaForSequenceClassification from the checkpoint of a model trained on another task or with another architecture (e.g. initializing a BertForSequenceClassification model from a BertForPreTraining model).\n",
      "- This IS NOT expected if you are initializing RobertaForSequenceClassification from the checkpoint of a model that you expect to be exactly identical (initializing a BertForSequenceClassification model from a BertForSequenceClassification model).\n"
     ]
    }
   ],
   "source": [
    "scorer = ResponseScorer()"
   ]
  },
  {
   "cell_type": "code",
   "execution_count": 12,
   "id": "e3beba20",
   "metadata": {},
   "outputs": [
    {
     "name": "stderr",
     "output_type": "stream",
     "text": [
      "INFO:elasticsearch:POST http://172.31.18.19:9200/tmp_es_template/_search [status:200 request:0.003s]\n",
      "INFO:root:Score passages...\n",
      "INFO:root:Prepare data: 0.01s\n",
      "100%|██████████| 1/1 [00:00<00:00,  3.90it/s]\n",
      "INFO:root:Inference: 0.26\n"
     ]
    },
    {
     "data": {
      "text/plain": [
       "[SearchResult(paragraph=Document(text='deep learning', id='1'), highlight=['deep <b>learning</b>'], score=0.019679011777043343),\n",
       " SearchResult(paragraph=Document(text='machine learning', id='0'), highlight=['machine <b>learning</b>'], score=0.0005291629349812865)]"
      ]
     },
     "execution_count": 12,
     "metadata": {},
     "output_type": "execute_result"
    }
   ],
   "source": [
    "storeclient.search(index, query, ranker=scorer)"
   ]
  },
  {
   "cell_type": "markdown",
   "id": "12bf2877",
   "metadata": {},
   "source": []
  }
 ],
 "metadata": {
  "interpreter": {
   "hash": "a3aab8c366ddf25bff7ee92745ef8af41ae31f0d8604aaab67d6185260175374"
  },
  "kernelspec": {
   "display_name": "quang-es",
   "language": "python",
   "name": "python3"
  },
  "language_info": {
   "codemirror_mode": {
    "name": "ipython",
    "version": 3
   },
   "file_extension": ".py",
   "mimetype": "text/x-python",
   "name": "python",
   "nbconvert_exporter": "python",
   "pygments_lexer": "ipython3",
   "version": "3.9.10"
  }
 },
 "nbformat": 4,
 "nbformat_minor": 5
}
