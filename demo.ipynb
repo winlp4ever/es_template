{
 "cells": [
  {
   "cell_type": "code",
   "execution_count": 1,
   "id": "2a4f60ef",
   "metadata": {},
   "outputs": [],
   "source": [
    "from es import DocumentStore, Document"
   ]
  },
  {
   "cell_type": "code",
   "execution_count": 2,
   "id": "370113f3",
   "metadata": {},
   "outputs": [],
   "source": [
    "host = '172.31.18.19'"
   ]
  },
  {
   "cell_type": "code",
   "execution_count": 3,
   "id": "ef644e46",
   "metadata": {},
   "outputs": [],
   "source": [
    "index = 'tmp_es_template'"
   ]
  },
  {
   "cell_type": "code",
   "execution_count": 4,
   "id": "3a001a88",
   "metadata": {},
   "outputs": [],
   "source": [
    "storeclient = DocumentStore(host)"
   ]
  },
  {
   "cell_type": "code",
   "execution_count": 5,
   "id": "df532fe5",
   "metadata": {},
   "outputs": [],
   "source": [
    "storeclient.create_store(index, lang='fr', reset_index=True)"
   ]
  },
  {
   "cell_type": "code",
   "execution_count": 6,
   "id": "a909f891",
   "metadata": {},
   "outputs": [],
   "source": [
    "with open('sample.txt') as f:\n",
    "    data = [Document(text=s.strip(), id=i) for i, s in enumerate(f.readlines())]"
   ]
  },
  {
   "cell_type": "code",
   "execution_count": 7,
   "id": "ba5efc19",
   "metadata": {},
   "outputs": [
    {
     "data": {
      "text/plain": [
       "[Document(text='machine learning est interessant', id=0),\n",
       " Document(text=\"c'est quoi machine learning\", id=1),\n",
       " Document(text='deep learning', id=2)]"
      ]
     },
     "execution_count": 7,
     "metadata": {},
     "output_type": "execute_result"
    }
   ],
   "source": [
    "data"
   ]
  },
  {
   "cell_type": "code",
   "execution_count": 8,
   "id": "b2d3f47f",
   "metadata": {},
   "outputs": [],
   "source": [
    "storeclient.add_documents(index=index, documents=data)"
   ]
  },
  {
   "cell_type": "code",
   "execution_count": 17,
   "id": "94659a20",
   "metadata": {},
   "outputs": [],
   "source": [
    "query = 'machine learn'"
   ]
  },
  {
   "cell_type": "code",
   "execution_count": 18,
   "id": "8fe72cc6",
   "metadata": {},
   "outputs": [
    {
     "data": {
      "text/plain": [
       "[{'text': 'machine learning est interessant',\n",
       "  'score': 0.4471386,\n",
       "  'highlight': ['<b>machine</b> learning est interessant']},\n",
       " {'text': \"c'est quoi machine learning\",\n",
       "  'score': 0.4471386,\n",
       "  'highlight': [\"c'est quoi <b>machine</b> learning\"]}]"
      ]
     },
     "execution_count": 18,
     "metadata": {},
     "output_type": "execute_result"
    }
   ],
   "source": [
    "storeclient.search_by_word_matching(index, query)"
   ]
  },
  {
   "cell_type": "code",
   "execution_count": null,
   "id": "7062475d",
   "metadata": {},
   "outputs": [],
   "source": []
  }
 ],
 "metadata": {
  "interpreter": {
   "hash": "a3aab8c366ddf25bff7ee92745ef8af41ae31f0d8604aaab67d6185260175374"
  },
  "kernelspec": {
   "display_name": "document-indexer",
   "language": "python",
   "name": "python3"
  },
  "language_info": {
   "codemirror_mode": {
    "name": "ipython",
    "version": 3
   },
   "file_extension": ".py",
   "mimetype": "text/x-python",
   "name": "python",
   "nbconvert_exporter": "python",
   "pygments_lexer": "ipython3",
   "version": "3.9.10"
  }
 },
 "nbformat": 4,
 "nbformat_minor": 5
}
