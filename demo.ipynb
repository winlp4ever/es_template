{
 "cells": [
  {
   "cell_type": "code",
   "execution_count": 16,
   "id": "2a4f60ef",
   "metadata": {},
   "outputs": [],
   "source": [
    "from src.search.paragraphs import DocumentStore, Document\n",
    "from src.search.passage_ranking import ResponseScorer"
   ]
  },
  {
   "cell_type": "code",
   "execution_count": 4,
   "id": "370113f3",
   "metadata": {},
   "outputs": [],
   "source": [
    "host = 'http://172.31.18.19:9200'"
   ]
  },
  {
   "cell_type": "code",
   "execution_count": 19,
   "id": "ef644e46",
   "metadata": {},
   "outputs": [],
   "source": [
    "index = 'tmp_es_template' # you have to change the index name to something like '<your-firstname>-blahblah'"
   ]
  },
  {
   "cell_type": "code",
   "execution_count": 20,
   "id": "3a001a88",
   "metadata": {},
   "outputs": [],
   "source": [
    "storeclient = DocumentStore(host)"
   ]
  },
  {
   "cell_type": "code",
   "execution_count": 21,
   "id": "df532fe5",
   "metadata": {},
   "outputs": [
    {
     "name": "stderr",
     "output_type": "stream",
     "text": [
      "INFO:elasticsearch:DELETE http://172.31.18.19:9200/tmp_es_template [status:200 request:0.035s]\n",
      "INFO:elasticsearch:PUT http://172.31.18.19:9200/tmp_es_template [status:200 request:0.086s]\n"
     ]
    }
   ],
   "source": [
    "storeclient.create_store(index, lang='en', reset_index=True)"
   ]
  },
  {
   "cell_type": "code",
   "execution_count": 22,
   "id": "a909f891",
   "metadata": {},
   "outputs": [],
   "source": [
    "with open('sample.txt') as f:\n",
    "    data = [Document(text=s.strip(), id=i) for i, s in enumerate(f.readlines())]"
   ]
  },
  {
   "cell_type": "code",
   "execution_count": 23,
   "id": "ba5efc19",
   "metadata": {},
   "outputs": [
    {
     "data": {
      "text/plain": [
       "[Document(text=\"Napoleon Bonaparte[a] (born Napoleone Buonaparte; 15 August 1769 – 5 May 1821), and later known by his regnal name Napoleon I, was a French military and political leader who rose to prominence during the French Revolution and led several successful campaigns during the Revolutionary Wars. He was the de facto leader of the French Republic as First Consul from 1799 to 1804. As Napoleon I, he was Emperor of the French from 1804 until 1814 and again in 1815. Napoleon's political and cultural legacy has endured, and he has been one of the most celebrated and controversial leaders in world history.[3][4]\", id=0),\n",
       " Document(text=\"Born in Maida Vale, London, Turing was raised in southern England. He graduated at King's College, Cambridge, with a degree in mathematics. Whilst he was a fellow at Cambridge, he published a proof demonstrating that some purely mathematical yes–no questions can never be answered by computation and defined a Turing machine, and went on to prove the halting problem for Turing machines is undecidable.\", id=1),\n",
       " Document(text='Crystal Liu (born An Feng; August 25, 1987),[3] better known by her stage name Liu Yifei (Chinese: 刘亦菲; pinyin: Liú Yìfēi), is a Chinese-American[a] actress, singer, and model. She has appeared multiple times on Forbes\\' China Celebrity 100 list, and was named one of the New Four Dan actresses of China in 2009.[6] She is widely known as \"Fairy Sister\" in China.', id=2)]"
      ]
     },
     "execution_count": 23,
     "metadata": {},
     "output_type": "execute_result"
    }
   ],
   "source": [
    "data"
   ]
  },
  {
   "cell_type": "code",
   "execution_count": 24,
   "id": "b2d3f47f",
   "metadata": {},
   "outputs": [
    {
     "name": "stderr",
     "output_type": "stream",
     "text": [
      "INFO:elasticsearch:POST http://172.31.18.19:9200/_bulk?refresh=true [status:200 request:0.013s]\n"
     ]
    }
   ],
   "source": [
    "storeclient.add_documents(index=index, documents=data)"
   ]
  },
  {
   "cell_type": "code",
   "execution_count": 25,
   "id": "94659a20",
   "metadata": {},
   "outputs": [],
   "source": [
    "query = 'Napoleon'\n",
    "#query = 'mediteranen'\n",
    "#query = 'civilizatio'"
   ]
  },
  {
   "cell_type": "code",
   "execution_count": 26,
   "id": "8fe72cc6",
   "metadata": {},
   "outputs": [
    {
     "name": "stderr",
     "output_type": "stream",
     "text": [
      "INFO:elasticsearch:POST http://172.31.18.19:9200/tmp_es_template/_search [status:200 request:0.004s]\n",
      "INFO:elasticsearch:POST http://172.31.18.19:9200/tmp_es_template/_search [status:200 request:0.002s]\n"
     ]
    },
    {
     "name": "stdout",
     "output_type": "stream",
     "text": [
      "search results:\n",
      "[SearchResult(paragraph=Document(text=\"Napoleon Bonaparte[a] (born Napoleone Buonaparte; 15 August 1769 – 5 May 1821), and later known by his regnal name Napoleon I, was a French military and political leader who rose to prominence during the French Revolution and led several successful campaigns during the Revolutionary Wars. He was the de facto leader of the French Republic as First Consul from 1799 to 1804. As Napoleon I, he was Emperor of the French from 1804 until 1814 and again in 1815. Napoleon's political and cultural legacy has endured, and he has been one of the most celebrated and controversial leaders in world history.[3][4]\", id='0'), highlight=['<b>Napoleon</b> Bonaparte[a] (born Napoleone Buonaparte; 15 August 1769 – 5 May 1821), and later known by his regnal name Napoleon I, was a French military and political leader who rose to prominence during the'], score=0.89166284)]\n"
     ]
    },
    {
     "data": {
      "text/plain": [
       "([{'text': 'napoleon', 'offset': 0, 'length': 8, 'options': []}],\n",
       " [{'text': 'napoleon', 'offset': 0, 'length': 8, 'options': []}])"
      ]
     },
     "execution_count": 26,
     "metadata": {},
     "output_type": "execute_result"
    }
   ],
   "source": [
    "print('search results:')\n",
    "print(storeclient.search(index, query))\n",
    "storeclient.suggest(index=index, query_string=query)"
   ]
  },
  {
   "cell_type": "code",
   "execution_count": 27,
   "id": "2c2b293e",
   "metadata": {},
   "outputs": [
    {
     "name": "stderr",
     "output_type": "stream",
     "text": [
      "Some weights of the model checkpoint at models/asnq_roberta were not used when initializing RobertaForSequenceClassification: ['roberta.pooler.dense.bias', 'roberta.pooler.dense.weight']\n",
      "- This IS expected if you are initializing RobertaForSequenceClassification from the checkpoint of a model trained on another task or with another architecture (e.g. initializing a BertForSequenceClassification model from a BertForPreTraining model).\n",
      "- This IS NOT expected if you are initializing RobertaForSequenceClassification from the checkpoint of a model that you expect to be exactly identical (initializing a BertForSequenceClassification model from a BertForSequenceClassification model).\n"
     ]
    }
   ],
   "source": [
    "scorer = ResponseScorer()"
   ]
  },
  {
   "cell_type": "code",
   "execution_count": 28,
   "id": "e3beba20",
   "metadata": {},
   "outputs": [
    {
     "name": "stderr",
     "output_type": "stream",
     "text": [
      "INFO:elasticsearch:POST http://172.31.18.19:9200/tmp_es_template/_search [status:200 request:0.003s]\n",
      "INFO:root:Score passages...\n",
      "INFO:root:Prepare data: 0.00s\n",
      "100%|██████████| 1/1 [00:00<00:00, 62.46it/s]\n",
      "INFO:root:Inference: 0.06\n"
     ]
    },
    {
     "data": {
      "text/plain": [
       "[SearchResult(paragraph=Document(text=\"Napoleon Bonaparte[a] (born Napoleone Buonaparte; 15 August 1769 – 5 May 1821), and later known by his regnal name Napoleon I, was a French military and political leader who rose to prominence during the French Revolution and led several successful campaigns during the Revolutionary Wars. He was the de facto leader of the French Republic as First Consul from 1799 to 1804. As Napoleon I, he was Emperor of the French from 1804 until 1814 and again in 1815. Napoleon's political and cultural legacy has endured, and he has been one of the most celebrated and controversial leaders in world history.[3][4]\", id='0'), highlight=['<b>Napoleon</b> Bonaparte[a] (born Napoleone Buonaparte; 15 August 1769 – 5 May 1821), and later known by his regnal name Napoleon I, was a French military and political leader who rose to prominence during the'], score=0.4489596486091614)]"
      ]
     },
     "execution_count": 28,
     "metadata": {},
     "output_type": "execute_result"
    }
   ],
   "source": [
    "storeclient.search(index, query, ranker=scorer)"
   ]
  },
  {
   "cell_type": "code",
   "execution_count": null,
   "id": "c47022a1",
   "metadata": {},
   "outputs": [],
   "source": [
    "[ doc1, doc2, ..., docn ] -> elasticsearch's index -> query\n",
    "es:\n",
    "- use tf-idf (bm25) -> [ doc_i1, ..., doc_ij ]\n",
    "- use QA model: (query, doc) -> 0 <= score <= 1\n",
    "    [(doc_i1, sc1), ..., (doc_ij, scj)]"
   ]
  },
  {
   "cell_type": "markdown",
   "id": "12bf2877",
   "metadata": {},
   "source": []
  }
 ],
 "metadata": {
  "interpreter": {
   "hash": "a3aab8c366ddf25bff7ee92745ef8af41ae31f0d8604aaab67d6185260175374"
  },
  "kernelspec": {
   "display_name": "quang-es",
   "language": "python",
   "name": "python3"
  },
  "language_info": {
   "codemirror_mode": {
    "name": "ipython",
    "version": 3
   },
   "file_extension": ".py",
   "mimetype": "text/x-python",
   "name": "python",
   "nbconvert_exporter": "python",
   "pygments_lexer": "ipython3",
   "version": "3.9.10"
  }
 },
 "nbformat": 4,
 "nbformat_minor": 5
}
